{
 "cells": [
  {
   "cell_type": "markdown",
   "metadata": {},
   "source": [
    "# COMP 642 Final Project\n",
    "\n",
    "- Data Extractions\n",
    "- Data Manipulations\n",
    "- Exploratory Data Analysis\n",
    "- Simulation and Pseudo Returns\n",
    "- Exploratory Data Analysis\n",
    "- Model Identification\n",
    "- Model Performance Testing\n",
    "- Tuning\n",
    "- Deployment\n"
   ]
  },
  {
   "cell_type": "markdown",
   "metadata": {},
   "source": []
  }
 ],
 "metadata": {
  "language_info": {
   "name": "python"
  }
 },
 "nbformat": 4,
 "nbformat_minor": 2
}
