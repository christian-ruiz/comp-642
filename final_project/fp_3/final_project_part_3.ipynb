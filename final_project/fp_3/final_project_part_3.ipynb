{
 "cells": [
  {
   "cell_type": "markdown",
   "metadata": {},
   "source": [
    "# Final Project - Part 3 | Model\n",
    "\n",
    "1. Identify and implement at least three different models.\n",
    "    - Model choices must include at least one supervised and one unsupervised learning model.\n",
    "    \n",
    "2. The business objective can vary for supervised versus unsupervised model.\n",
    "\n",
    "3. For each model prepare a report showing \n",
    "    - results obtained and hyperparameter values used\n",
    "    - justification for dimensionality reduction (or not) including supporting data\n",
    "    - resulting conclusions for each model regarding potential fit. "
   ]
  },
  {
   "cell_type": "markdown",
   "metadata": {},
   "source": [
    "# Approach"
   ]
  },
  {
   "cell_type": "markdown",
   "metadata": {},
   "source": [
    "Part 3 of our final project will see implementations of three different approaches to solving the underlying questions on investment timing for TQQQ. First, before seeking the different methods on answering the question, I would like to restate the goal of our ML models. That is, to appropriately time the long, short, or hold of the TQQQ ETF. Although perfect market timing is impossible to achieve, according to the Efficient Market Hypothesis. Below will outline the expectations for each of the models and how I believe that these methods might accomplish more efficient entries and exits into the market."
   ]
  },
  {
   "cell_type": "markdown",
   "metadata": {},
   "source": [
    "## RNN\n",
    "\n",
    "Through RNN, we are attempting to achieve predictions for 3, 5, 10, and 20 day future prices of the security. This approach will then allow us to use the investment function to decide how we will time our investment"
   ]
  },
  {
   "cell_type": "markdown",
   "metadata": {},
   "source": [
    "# RNN Timeseries Market Data"
   ]
  },
  {
   "cell_type": "markdown",
   "metadata": {},
   "source": [
    "# Classification Model - XGBoost?"
   ]
  },
  {
   "cell_type": "markdown",
   "metadata": {},
   "source": [
    "# Segmentation Model - KMeans"
   ]
  },
  {
   "cell_type": "markdown",
   "metadata": {},
   "source": []
  }
 ],
 "metadata": {
  "language_info": {
   "name": "python"
  }
 },
 "nbformat": 4,
 "nbformat_minor": 2
}
