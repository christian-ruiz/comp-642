{
 "cells": [
  {
   "cell_type": "markdown",
   "metadata": {},
   "source": [
    "# HW 10 | Question 2\n",
    "\n",
    "In the lecture the forward process of LSTM was outlined. GRU is a “simpler version” of LSTM.  In this problem you’ll practice stepping through the forward process of GRU. Calculate value of the output state and each gate for t1 and t2 as was done for LSTM in lecture. (calculation should be rounded to four decimals)"
   ]
  },
  {
   "cell_type": "markdown",
   "metadata": {},
   "source": [
    "$$z=sigmoid(x_t U^z+s_(t-1)  W^z)$$\n",
    "$$r=sigmoid(x_t U^r+s_(t-1)  W^r)$$\n",
    "$$h=tanh(x_t U^h+(s_(t-1)  ∘r) W^h)$$\n",
    "$$s_t=(1-z)∘h+ z ∘s_(t-1)$$"
   ]
  },
  {
   "cell_type": "markdown",
   "metadata": {},
   "source": [
    "$$U^z= \\begin{array}{|c|} 0.35 \\\\ 0.6 \\end{array}$$\n",
    "\n",
    "$$U^r= \\begin{array}{|c|} 0.45 \\\\ 0.12\\end{array}$$\n",
    "\n",
    "$$U^h= \\begin{array}{|ccc|}0.56 & 0.1 & 0.3 \\\\ 0.2 & 0.5 & 0.21\\end{array}$$\n",
    "\n",
    "$$W^z= \\begin{array}{|cc|}0.12 \\\\ 0.67 \\\\ 0.34\\end{array}$$\n",
    "\n",
    "$$W^r= \\begin{array}{|cc|}0.21 \\\\ 0.22 \\\\ 0.45\\end{array}$$\n",
    "\n",
    "$$W^h= \\begin{array}{|ccc|}0.54 & 0.1 & 0.2 \\\\ 0.2 & 0.66 & 0.3 \\\\ 0.9 & 0.87 & 0.3\\end{array}$$\n"
   ]
  },
  {
   "cell_type": "code",
   "execution_count": 2,
   "metadata": {},
   "outputs": [],
   "source": [
    "import numpy as np\n",
    "\n",
    "# creating the sigmoid and tanhn functions\n",
    "\n",
    "def sigmoid(x):\n",
    "    return 1/(1 + np.exp(-x))\n",
    "\n",
    "def tanh(x):\n",
    "    return np.tanh(x)"
   ]
  },
  {
   "cell_type": "code",
   "execution_count": 4,
   "metadata": {},
   "outputs": [],
   "source": [
    "# creating arrays of the given data\n",
    "\n",
    "# t1 and t2\n",
    "x_t1 = np.array([0.23, 0.12])\n",
    "x_t2 = np.array([0.48, 0.98])\n",
    "\n",
    "# weights matrices\n",
    "uz = np.array([[0.35], [0.6]])\n",
    "ur = np.array([[0.45], [0.12]])\n",
    "uh = np.array([[0.56, 0.1, 0.3], [0.2, 0.5, 0.21]])\n",
    "\n",
    "wz = np.array([[0.12], [0.67], [0.34]])\n",
    "wr = np.array([[0.21], [0.22], [0.45]])\n",
    "wh = np.array([[0.54, 0.1, 0.2], [0.2, 0.66, 0.3], [0.9, 0.87, 0.3]])\n",
    "\n",
    "s_t0 = np.array([[0, 0, 0]])"
   ]
  },
  {
   "cell_type": "code",
   "execution_count": 5,
   "metadata": {},
   "outputs": [],
   "source": [
    "# Calculating the values for t1\n",
    "z_t1 = sigmoid(x_t1 @ uz + s_t0 @ wz)\n",
    "r_t1 = sigmoid(x_t1 @ ur + s_t0 @ wr)\n",
    "h_t1 = tanh(x_t1 @ uh + (s_t0 * r_t1) @ wh)\n",
    "s_t1 = (1 - z_t1) * h_t1 + z_t1 * s_t0\n",
    "\n",
    "# Calculating the values for t2 using the state from t1\n",
    "z_t2 = sigmoid(x_t2 @ uz + s_t1 @ wz)\n",
    "r_t2 = sigmoid(x_t2 @ ur + s_t1 @ wr)\n",
    "h_t2 = tanh(x_t2 @ uh + (s_t1 * r_t2) @ wh)\n",
    "s_t2 = (1 - z_t2) * h_t2 + z_t2 * s_t1\n",
    "\n",
    "# Rounding the results to four decimal places as requested\n",
    "output_t1_t2 = {\n",
    "    \"t1\": {\n",
    "        \"z\": np.round(z_t1, 4),\n",
    "        \"r\": np.round(r_t1, 4),\n",
    "        \"h\": np.round(h_t1, 4),\n",
    "        \"s_t\": np.round(s_t1, 4)\n",
    "    },\n",
    "    \"t2\": {\n",
    "        \"z\": np.round(z_t2, 4),\n",
    "        \"r\": np.round(r_t2, 4),\n",
    "        \"h\": np.round(h_t2, 4),\n",
    "        \"s_t\": np.round(s_t2, 4)\n",
    "    }\n",
    "}"
   ]
  },
  {
   "cell_type": "code",
   "execution_count": 7,
   "metadata": {},
   "outputs": [
    {
     "data": {
      "text/plain": [
       "{'z': array([[0.5381]]),\n",
       " 'r': array([[0.5294]]),\n",
       " 'h': array([[0.1516, 0.0828, 0.0939]]),\n",
       " 's_t': array([[0.07  , 0.0383, 0.0434]])}"
      ]
     },
     "execution_count": 7,
     "metadata": {},
     "output_type": "execute_result"
    }
   ],
   "source": [
    "output_t1_t2['t1']"
   ]
  },
  {
   "cell_type": "code",
   "execution_count": 8,
   "metadata": {},
   "outputs": [
    {
     "data": {
      "text/plain": [
       "{'z': array([[0.691]]),\n",
       " 'r': array([[0.593]]),\n",
       " 'h': array([[0.4738, 0.5223, 0.3563]]),\n",
       " 's_t': array([[0.1948, 0.1878, 0.1401]])}"
      ]
     },
     "execution_count": 8,
     "metadata": {},
     "output_type": "execute_result"
    }
   ],
   "source": [
    "output_t1_t2['t2']"
   ]
  }
 ],
 "metadata": {
  "kernelspec": {
   "display_name": "Python 3",
   "language": "python",
   "name": "python3"
  },
  "language_info": {
   "codemirror_mode": {
    "name": "ipython",
    "version": 3
   },
   "file_extension": ".py",
   "mimetype": "text/x-python",
   "name": "python",
   "nbconvert_exporter": "python",
   "pygments_lexer": "ipython3",
   "version": "3.10.5"
  }
 },
 "nbformat": 4,
 "nbformat_minor": 2
}
