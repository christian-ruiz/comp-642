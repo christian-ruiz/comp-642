{
 "cells": [
  {
   "cell_type": "markdown",
   "metadata": {},
   "source": [
    "# HW 9 | Question 3"
   ]
  },
  {
   "cell_type": "code",
   "execution_count": 1,
   "metadata": {},
   "outputs": [],
   "source": [
    "import numpy as np"
   ]
  },
  {
   "cell_type": "code",
   "execution_count": 11,
   "metadata": {},
   "outputs": [],
   "source": [
    "# apply filter to image\n",
    "def convolve2d(image, filter):\n",
    "    filter_size = filter.shape[0]\n",
    "    result_size = image.shape[0] - filter_size + 1\n",
    "    result = np.zeros((result_size, result_size))\n",
    "\n",
    "    for i in range(result_size):\n",
    "        for j in range(result_size):\n",
    "            result[i, j] = np.sum(image[i:i+filter_size, j:j+filter_size] * filter)\n",
    "\n",
    "    return result"
   ]
  },
  {
   "cell_type": "code",
   "execution_count": 12,
   "metadata": {},
   "outputs": [],
   "source": [
    "image = np.array(\n",
    "    [[1, 1, 2, 3, 4, 2],\n",
    "    [2, 5, 9, 7, 6, 5],\n",
    "    [1, 2, 0, 1, 5, 4],\n",
    "    [1, 2, 2, 1, 7, 0],\n",
    "    [6, 4, 0, 1, 5, 2],\n",
    "    [4, 3, 3, 2, 5, 1]]\n",
    ")"
   ]
  },
  {
   "cell_type": "code",
   "execution_count": 15,
   "metadata": {},
   "outputs": [],
   "source": [
    "# question 3\n",
    "\n",
    "# horizontal edge\n",
    "q_3a = np.array(\n",
    "    [[-1, -1, -1],\n",
    "    [1, 1, 1],\n",
    "    [-1, -1, -1]]\n",
    ") \n",
    "\n",
    "# vertical edge\n",
    "q_3b = np.array(\n",
    "    [[-1, 1, -1],\n",
    "    [-1, 1, -1],\n",
    "    [-1, 1, -1]]\n",
    ") \n",
    "\n",
    "# horizontal edge\n",
    "q_3c = np.array(\n",
    "    [[1, -1, -1],\n",
    "    [-1, 1, -1],\n",
    "    [-1, -1, 1]]\n",
    ") "
   ]
  },
  {
   "cell_type": "code",
   "execution_count": 14,
   "metadata": {},
   "outputs": [
    {
     "data": {
      "text/plain": [
       "array([[  9.,  12.,   7.,  -1.],\n",
       "       [-18., -23., -26., -16.],\n",
       "       [ -8.,  -3.,  -2., -10.],\n",
       "       [ -5.,  -8., -14.,  -8.]])"
      ]
     },
     "execution_count": 14,
     "metadata": {},
     "output_type": "execute_result"
    }
   ],
   "source": [
    "question_3a_array = convolve2d(image, q_3a)\n",
    "question_3a_array\n"
   ]
  },
  {
   "cell_type": "code",
   "execution_count": 16,
   "metadata": {},
   "outputs": [
    {
     "data": {
      "text/plain": [
       "array([[ -7.,  -8., -15.,  -7.],\n",
       "       [ -6.,  -7., -20.,   0.],\n",
       "       [ -2.,  -9., -16.,   8.],\n",
       "       [ -7.,  -8., -18.,  10.]])"
      ]
     },
     "execution_count": 16,
     "metadata": {},
     "output_type": "execute_result"
    }
   ],
   "source": [
    "question_3b_array = convolve2d(image, q_3b)\n",
    "question_3b_array\n"
   ]
  },
  {
   "cell_type": "code",
   "execution_count": 17,
   "metadata": {},
   "outputs": [
    {
     "data": {
      "text/plain": [
       "array([[-11.,  -8.,  -9., -11.],\n",
       "       [-12., -17.,  -4., -12.],\n",
       "       [-12.,  -3., -10.,  -6.],\n",
       "       [ -9., -10., -10., -10.]])"
      ]
     },
     "execution_count": 17,
     "metadata": {},
     "output_type": "execute_result"
    }
   ],
   "source": [
    "question_3c_array = convolve2d(image, q_3c)\n",
    "question_3c_array\n"
   ]
  },
  {
   "cell_type": "code",
   "execution_count": null,
   "metadata": {},
   "outputs": [],
   "source": []
  }
 ],
 "metadata": {
  "kernelspec": {
   "display_name": "Python 3",
   "language": "python",
   "name": "python3"
  },
  "language_info": {
   "codemirror_mode": {
    "name": "ipython",
    "version": 3
   },
   "file_extension": ".py",
   "mimetype": "text/x-python",
   "name": "python",
   "nbconvert_exporter": "python",
   "pygments_lexer": "ipython3",
   "version": "3.10.5"
  }
 },
 "nbformat": 4,
 "nbformat_minor": 2
}
