{
 "cells": [
  {
   "cell_type": "markdown",
   "metadata": {},
   "source": [
    "# Final Project - Part 3 | Model\n",
    "\n",
    "1. Identify and implement at least three different models.\n",
    "    - Model choices must include at least one supervised and one unsupervised learning model.\n",
    "    \n",
    "2. The business objective can vary for supervised versus unsupervised model.\n",
    "\n",
    "3. For each model prepare a report showing \n",
    "    - results obtained and hyperparameter values used\n",
    "    - justification for dimensionality reduction (or not) including supporting data\n",
    "    - resulting conclusions for each model regarding potential fit. "
   ]
  },
  {
   "cell_type": "markdown",
   "metadata": {},
   "source": [
    "## Approach"
   ]
  },
  {
   "cell_type": "markdown",
   "metadata": {},
   "source": [
    "## RNN Timeseries Market Data"
   ]
  },
  {
   "cell_type": "markdown",
   "metadata": {},
   "source": [
    "## Classification Model - XGBoost?"
   ]
  },
  {
   "cell_type": "markdown",
   "metadata": {},
   "source": [
    "## Segmentation Model - KMeans"
   ]
  },
  {
   "cell_type": "markdown",
   "metadata": {},
   "source": []
  }
 ],
 "metadata": {
  "language_info": {
   "name": "python"
  }
 },
 "nbformat": 4,
 "nbformat_minor": 2
}
